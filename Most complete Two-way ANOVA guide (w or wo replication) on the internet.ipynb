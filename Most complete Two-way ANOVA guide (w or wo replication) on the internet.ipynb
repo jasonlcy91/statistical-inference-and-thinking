{
 "cells": [
  {
   "cell_type": "code",
   "execution_count": 291,
   "metadata": {},
   "outputs": [],
   "source": [
    "import numpy as np\n",
    "import pandas as pd\n",
    "import statsmodels.api as sm\n",
    "from statsmodels.formula.api import ols\n",
    "from statsmodels.stats.anova import anova_lm\n",
    "from statsmodels.graphics.factorplots import interaction_plot\n",
    "from statsmodels.stats.multicomp import MultiComparison\n",
    "import matplotlib.pyplot as plt\n",
    "from scipy import stats"
   ]
  },
  {
   "cell_type": "markdown",
   "metadata": {},
   "source": [
    "ANOVA test is used to find out whether there is any significant difference between testing groups, normally 3 or more. One-way ANOVA involves one measurement and one categorical variable with multiple levels, for example height and sex, to tell whether the levels (or groups, in this case, the sex) are significantly different from each other. Two-way ANOVA involves 1 measurent or dependant variable (DV) and 2 categorical variable or independant variables (IV), for example sex and country.\n",
    "\n",
    "In other words, two-way ANOVA gives more information to us to find out whether the groups are really different, by taking into account of new variable. For example, in a One-way ANOVA test on a sample, we found out that there's no significant difference in height between different sex, but when we introduced another variable and do two-way ANOVA this time, we found out that it's not necessarily true, because while there is no significant difference in height between Male and Female of UK and Australia, it exists for Singaporeans, so the two groups are indeed different after all. We say \"Country\" is the blocking variable here. We can flip it the other way to test for significant difference between Country groups and now \"Sex\" is the blocking variable here. "
   ]
  },
  {
   "cell_type": "markdown",
   "metadata": {},
   "source": [
    "Well will there be a 3-way, 4 way ANOVA? Well techically it can exists, but technically challenging to calculate. Besides, we can use regression to make the same inference and technically, linear regression is an extension/related to ANOVA. Why is it challenging? Because in ANOVA more than 1 way, we will calculate main effect and interaction effect."
   ]
  },
  {
   "cell_type": "markdown",
   "metadata": {},
   "source": [
    "# Table of Contents\n",
    "\n",
    "## 1. Practical coding and analyze the result\n",
    "## 2. The intuition - Dive deeper into simple math\n",
    "## 3. Discover new concepts in ANOVA"
   ]
  },
  {
   "cell_type": "code",
   "execution_count": 399,
   "metadata": {},
   "outputs": [],
   "source": [
    "def generate_data(seed=2):\n",
    "    np.random.seed(seed)\n",
    "    Age_group_A = np.random.normal(108, 18.9, 30)\n",
    "    Age_group_B = np.random.normal(110, 19.2, 30)\n",
    "    Age_group_C = np.random.normal(112, 19.0, 30)\n",
    "    \n",
    "    data = pd.DataFrame({'Age_group_A': Age_group_A, 'Age_group_B': Age_group_B, 'Age_group_C': Age_group_C})\n",
    "\n",
    "    data['Country'] = None\n",
    "    data = data.sort_values('Age_group_A')\n",
    "    data.iloc[:10,3] = 'UK'\n",
    "    data.iloc[10:20,3] = 'US'\n",
    "    data.iloc[20:,3] = 'SG'\n",
    "\n",
    "    # To make sure the score distribution in Age group really varies by country\n",
    "#     Age_group_B = data.Age_group_B.sort_values().values\n",
    "#     data.loc[data.Country=='UK', 'Age_group_B'] = Age_group_B[20:]\n",
    "#     data.loc[data.Country=='US', 'Age_group_B'] = Age_group_B[10:20]\n",
    "#     data.loc[data.Country=='SG', 'Age_group_B'] = Age_group_B[:10]\n",
    "\n",
    "#     Age_group_C = data.Age_group_C.sort_values().values\n",
    "#     data.loc[data.Country=='UK', 'Age_group_C'] = Age_group_C[10:20]\n",
    "#     data.loc[data.Country=='US', 'Age_group_C'] = Age_group_C[:10]\n",
    "#     data.loc[data.Country=='SG', 'Age_group_C'] = Age_group_C[20:]\n",
    "\n",
    "    return data.melt(id_vars='Country', var_name='Age_group', value_name='Score')\n",
    "    \n",
    "def summary(data, groupby, value):\n",
    "    return data.groupby(groupby)[value].agg(['count','mean','std'])\n",
    "\n",
    "def print_results_extra(anova_lm_results):\n",
    "    anova_lm_results['eta_sq'] = 'NaN'\n",
    "    anova_lm_results['eta_sq'] = anova_lm_results[:-1]['sum_sq']/sum(anova_lm_results['sum_sq'])\n",
    "\n",
    "    mse = anova_lm_results['sum_sq'][-1]/anova_lm_results['df'][-1]\n",
    "    anova_lm_results['omega_sq'] = 'NaN'\n",
    "    anova_lm_results['omega_sq'] = (anova_lm_results[:-1]['sum_sq']-(anova_lm_results[:-1]['df']*mse))/(sum(anova_lm_results['sum_sq'])+mse)\n",
    "    \n",
    "    print(anova_lm_results.round(4))"
   ]
  },
  {
   "cell_type": "markdown",
   "metadata": {},
   "source": [
    "# 1. Practical coding and analyze the result\n",
    "\n",
    "## 1.1 Obtain and analyze ANOVA test results\n",
    "\n",
    "In this section we'll quickly perform two-way ANOVA test and then analyze the results comprehensively. The purpose is to understand how to effectively and practically use two-way ANOVA. Of course, as you progress to next sections, I'll reveal other important things and concepts that you should also NOT forget. But let's go step-by-step."
   ]
  },
  {
   "cell_type": "markdown",
   "metadata": {},
   "source": [
    "First, we are going to generate some data. Supposed we collect `Score` data from some international test like SAT. We have 2 independant categorical variables here, namely `Country` and `Gene` and we are going to perform a two-way ANOVA.\n",
    "\n",
    "So what are we trying to do here is to see, whether `Country` and `Gene` affect `Score`."
   ]
  },
  {
   "cell_type": "code",
   "execution_count": 400,
   "metadata": {},
   "outputs": [
    {
     "data": {
      "text/html": [
       "<div>\n",
       "<style scoped>\n",
       "    .dataframe tbody tr th:only-of-type {\n",
       "        vertical-align: middle;\n",
       "    }\n",
       "\n",
       "    .dataframe tbody tr th {\n",
       "        vertical-align: top;\n",
       "    }\n",
       "\n",
       "    .dataframe thead th {\n",
       "        text-align: right;\n",
       "    }\n",
       "</style>\n",
       "<table border=\"1\" class=\"dataframe\">\n",
       "  <thead>\n",
       "    <tr style=\"text-align: right;\">\n",
       "      <th></th>\n",
       "      <th></th>\n",
       "      <th>count</th>\n",
       "      <th>mean</th>\n",
       "      <th>std</th>\n",
       "    </tr>\n",
       "    <tr>\n",
       "      <th>Country</th>\n",
       "      <th>Age_group</th>\n",
       "      <th></th>\n",
       "      <th></th>\n",
       "      <th></th>\n",
       "    </tr>\n",
       "  </thead>\n",
       "  <tbody>\n",
       "    <tr>\n",
       "      <th rowspan=\"3\" valign=\"top\">SG</th>\n",
       "      <th>Age_group_A</th>\n",
       "      <td>10</td>\n",
       "      <td>121.208980</td>\n",
       "      <td>14.580748</td>\n",
       "    </tr>\n",
       "    <tr>\n",
       "      <th>Age_group_B</th>\n",
       "      <td>10</td>\n",
       "      <td>112.002611</td>\n",
       "      <td>16.953629</td>\n",
       "    </tr>\n",
       "    <tr>\n",
       "      <th>Age_group_C</th>\n",
       "      <td>10</td>\n",
       "      <td>101.355464</td>\n",
       "      <td>21.767009</td>\n",
       "    </tr>\n",
       "    <tr>\n",
       "      <th rowspan=\"3\" valign=\"top\">UK</th>\n",
       "      <th>Age_group_A</th>\n",
       "      <td>10</td>\n",
       "      <td>83.929864</td>\n",
       "      <td>7.678484</td>\n",
       "    </tr>\n",
       "    <tr>\n",
       "      <th>Age_group_B</th>\n",
       "      <td>10</td>\n",
       "      <td>111.949602</td>\n",
       "      <td>21.492482</td>\n",
       "    </tr>\n",
       "    <tr>\n",
       "      <th>Age_group_C</th>\n",
       "      <td>10</td>\n",
       "      <td>111.280578</td>\n",
       "      <td>20.358198</td>\n",
       "    </tr>\n",
       "    <tr>\n",
       "      <th rowspan=\"3\" valign=\"top\">US</th>\n",
       "      <th>Age_group_A</th>\n",
       "      <td>10</td>\n",
       "      <td>100.097167</td>\n",
       "      <td>5.183349</td>\n",
       "    </tr>\n",
       "    <tr>\n",
       "      <th>Age_group_B</th>\n",
       "      <td>10</td>\n",
       "      <td>111.909675</td>\n",
       "      <td>23.450453</td>\n",
       "    </tr>\n",
       "    <tr>\n",
       "      <th>Age_group_C</th>\n",
       "      <td>10</td>\n",
       "      <td>115.090751</td>\n",
       "      <td>16.760120</td>\n",
       "    </tr>\n",
       "  </tbody>\n",
       "</table>\n",
       "</div>"
      ],
      "text/plain": [
       "                     count        mean        std\n",
       "Country Age_group                                \n",
       "SG      Age_group_A     10  121.208980  14.580748\n",
       "        Age_group_B     10  112.002611  16.953629\n",
       "        Age_group_C     10  101.355464  21.767009\n",
       "UK      Age_group_A     10   83.929864   7.678484\n",
       "        Age_group_B     10  111.949602  21.492482\n",
       "        Age_group_C     10  111.280578  20.358198\n",
       "US      Age_group_A     10  100.097167   5.183349\n",
       "        Age_group_B     10  111.909675  23.450453\n",
       "        Age_group_C     10  115.090751  16.760120"
      ]
     },
     "execution_count": 400,
     "metadata": {},
     "output_type": "execute_result"
    }
   ],
   "source": [
    "data = generate_data(2)\n",
    "summary(data, ['Country','Age_group'], 'Score')"
   ]
  },
  {
   "cell_type": "code",
   "execution_count": 401,
   "metadata": {},
   "outputs": [
    {
     "name": "stdout",
     "output_type": "stream",
     "text": [
      "                             sum_sq    df       F  PR(>F)  eta_sq  omega_sq\n",
      "C(Age_group)              1677.7326   2.0  2.7287  0.0713  0.0485    0.0305\n",
      "C(Country)                1338.2701   2.0  2.1766  0.1200  0.0387    0.0207\n",
      "C(Age_group):C(Country)   6656.7941   4.0  5.4133  0.0006  0.1925    0.1556\n",
      "Residual                 24901.7490  81.0     NaN     NaN     NaN       NaN\n"
     ]
    }
   ],
   "source": [
    "formula = 'Score ~ C(Age_group)*C(Country)'\n",
    "model = ols(formula, data).fit()\n",
    "results = anova_lm(model, typ=2)\n",
    "print_results_extra(results)"
   ]
  },
  {
   "cell_type": "markdown",
   "metadata": {},
   "source": [
    "### A. Interpreting the results\n",
    "In two-way ANOVA, the first thing we must check is the interaction effect, in this case the combined effect of `Age_group` and `Country`. To do that we use the formula `C(Age_group)*C(Country)` to auto-generate the main effect (individual effect by each variable) and the interaction effect. This is equivalent to `C(Age_group) + C(Country) + C(Age_group):C(Country)`. If interaction effect is present, work is done - it's not meaningful to access individual effect anymore!\n",
    "\n",
    "**From the results, it seems that:**\n",
    "1. `Score` is driven by the interaction effect `C(Age_group):C(Country)`. The p-value of `C(Age_group):C(Country)` is significant. We can conclude that the `Score` is driven by the combined effect of both variables, regardless of whether the p-values of individual variable is significant or not. Work is done!"
   ]
  },
  {
   "cell_type": "markdown",
   "metadata": {},
   "source": [
    "### B. Great discovery\n",
    "\n",
    "Well this is a great discovery! Supposed we have initially only collected `Score` and `Age_group` data. **To our disappointment, `Age_group` can't predict the outcome.**"
   ]
  },
  {
   "cell_type": "code",
   "execution_count": 402,
   "metadata": {},
   "outputs": [
    {
     "name": "stdout",
     "output_type": "stream",
     "text": [
      "                  sum_sq    df       F  PR(>F)  eta_sq  omega_sq\n",
      "C(Age_group)   1677.7326   2.0  2.2185  0.1149  0.0485    0.0264\n",
      "Residual      32896.8132  87.0     NaN     NaN     NaN       NaN\n"
     ]
    }
   ],
   "source": [
    "formula = 'Score ~ C(Age_group)'\n",
    "model = ols(formula, data).fit()\n",
    "results = anova_lm(model, typ=2)\n",
    "print_results_extra(results)"
   ]
  },
  {
   "cell_type": "markdown",
   "metadata": {},
   "source": [
    "Imagined somewhere on earth another research competitor is also collecting these data, but instead of `Age_group`, they believe in using `Country`. **Another disappointment occurred to the world:**"
   ]
  },
  {
   "cell_type": "code",
   "execution_count": 403,
   "metadata": {},
   "outputs": [
    {
     "name": "stdout",
     "output_type": "stream",
     "text": [
      "                sum_sq    df       F  PR(>F)  eta_sq  omega_sq\n",
      "C(Country)   1338.2701   2.0  1.7515  0.1796  0.0387    0.0164\n",
      "Residual    33236.2757  87.0     NaN     NaN     NaN       NaN\n"
     ]
    }
   ],
   "source": [
    "formula = 'Score ~ C(Country)'\n",
    "model = ols(formula, data).fit()\n",
    "results = anova_lm(model, typ=2)\n",
    "print_results_extra(results)"
   ]
  },
  {
   "cell_type": "markdown",
   "metadata": {},
   "source": [
    "After that initial test, we thought maybe `Country` could provide more information. And we are right!"
   ]
  },
  {
   "cell_type": "code",
   "execution_count": 404,
   "metadata": {},
   "outputs": [
    {
     "name": "stdout",
     "output_type": "stream",
     "text": [
      "                             sum_sq    df       F  PR(>F)  eta_sq  omega_sq\n",
      "C(Age_group)              1677.7326   2.0  2.7287  0.0713  0.0485    0.0305\n",
      "C(Country)                1338.2701   2.0  2.1766  0.1200  0.0387    0.0207\n",
      "C(Age_group):C(Country)   6656.7941   4.0  5.4133  0.0006  0.1925    0.1556\n",
      "Residual                 24901.7490  81.0     NaN     NaN     NaN       NaN\n"
     ]
    }
   ],
   "source": [
    "formula = 'Score ~ C(Age_group)*C(Country)'\n",
    "model = ols(formula, data).fit()\n",
    "results = anova_lm(model, typ=2)\n",
    "print_results_extra(results)"
   ]
  },
  {
   "cell_type": "markdown",
   "metadata": {},
   "source": [
    "So the final predictor should be as below. And we can conclude that `Score` are significantly different between each sub-group. "
   ]
  },
  {
   "cell_type": "code",
   "execution_count": 405,
   "metadata": {},
   "outputs": [
    {
     "name": "stdout",
     "output_type": "stream",
     "text": [
      "                             sum_sq    df       F  PR(>F)  eta_sq  omega_sq\n",
      "C(Age_group):C(Country)   9672.7968   8.0  3.9329  0.0006  0.2798    0.2068\n",
      "Residual                 24901.7490  81.0     NaN     NaN     NaN       NaN\n"
     ]
    }
   ],
   "source": [
    "formula = 'Score ~ C(Age_group):C(Country)'\n",
    "model = ols(formula, data).fit()\n",
    "results = anova_lm(model, typ=2)\n",
    "print_results_extra(results)"
   ]
  },
  {
   "cell_type": "markdown",
   "metadata": {},
   "source": [
    "Of course, A picture tells a thousand words. **Estimated Marginal Means graph** tells a good story and one can use this even before doing ANOVA test to get a rough sense of what to expect. How to interpret?\n",
    "\n",
    "1. Each line represents an Age_group, each column represents a Country. If the lines cross over or \"are going to\" cross over, then interaction effect is present."
   ]
  },
  {
   "cell_type": "code",
   "execution_count": 406,
   "metadata": {},
   "outputs": [
    {
     "data": {
      "image/png": "[encoded data removed]",
      "text/plain": [
       "<Figure size 432x288 with 1 Axes>"
      ]
     },
     "metadata": {
      "needs_background": "light"
     },
     "output_type": "display_data"
    }
   ],
   "source": [
    "fig = interaction_plot(data.Country, data.Age_group, data.Score, colors=['red','blue','green'], markers=['D','^','x'], ms=10)"
   ]
  },
  {
   "cell_type": "markdown",
   "metadata": {},
   "source": [
    "### C. Effect size\n",
    "\n",
    "ANOVA and its p-value only tell us whether an effect (variable) is significant or not, but do not quantify the effect, whether is large or small. These are [several common effect size measures, their intuition and calculation](https://www.theanalysisfactor.com/effect-size).\n",
    "\n",
    "See also the math in the \"2. The Intuition - Dive Deep into Simple Math\" section."
   ]
  },
  {
   "cell_type": "markdown",
   "metadata": {},
   "source": [
    "### D. Post-hoc testing\n",
    "\n",
    "So which pair of groups or subgroups are different from each other? We turn to [Tukey HSD](https://sciencing.com/what-is-the-tukey-hsd-test-12751748.html) - Multiple comparison of means for post-hoc testing to find out. This is a post-ANOVA testing. **We can see that UK group A is really different from 5 other groups!**\n",
    "\n",
    "ANOVA only tells you whether there is any difference between the groups as a bunch but does not tell you which pair is different. As long as there is a odd pair, ANOVA will just tell you \"there is difference between groups, but I don't know which specifically\""
   ]
  },
  {
   "cell_type": "code",
   "execution_count": 321,
   "metadata": {},
   "outputs": [],
   "source": [
    "data['subgroup'] = data.Country + '_' + data.Age_group"
   ]
  },
  {
   "cell_type": "code",
   "execution_count": 322,
   "metadata": {
    "scrolled": true
   },
   "outputs": [
    {
     "name": "stdout",
     "output_type": "stream",
     "text": [
      "       Multiple Comparison of Means - Tukey HSD,FWER=0.05      \n",
      "===============================================================\n",
      "    group1         group2     meandiff  lower    upper   reject\n",
      "---------------------------------------------------------------\n",
      "SG_Age_group_A SG_Age_group_B -9.2064  -34.1968 15.7841  False \n",
      "SG_Age_group_A SG_Age_group_C -19.8535 -44.844   5.1369  False \n",
      "SG_Age_group_A UK_Age_group_A -37.2791 -62.2696 -12.2887  True \n",
      "SG_Age_group_A UK_Age_group_B -9.2594  -34.2498 15.7311  False \n",
      "SG_Age_group_A UK_Age_group_C -9.9284  -34.9189  15.062  False \n",
      "SG_Age_group_A US_Age_group_A -21.1118 -46.1023  3.8786  False \n",
      "SG_Age_group_A US_Age_group_B -9.2993  -34.2898 15.6911  False \n",
      "SG_Age_group_A US_Age_group_C -6.1182  -31.1087 18.8722  False \n",
      "SG_Age_group_B SG_Age_group_C -10.6471 -35.6376 14.3433  False \n",
      "SG_Age_group_B UK_Age_group_A -28.0727 -53.0632 -3.0823   True \n",
      "SG_Age_group_B UK_Age_group_B  -0.053  -25.0435 24.9374  False \n",
      "SG_Age_group_B UK_Age_group_C  -0.722  -25.7125 24.2684  False \n",
      "SG_Age_group_B US_Age_group_A -11.9054 -36.8959  13.085  False \n",
      "SG_Age_group_B US_Age_group_B -0.0929  -25.0834 24.8975  False \n",
      "SG_Age_group_B US_Age_group_C  3.0881  -21.9023 28.0786  False \n",
      "SG_Age_group_C UK_Age_group_A -17.4256 -42.4161  7.5649  False \n",
      "SG_Age_group_C UK_Age_group_B 10.5941  -14.3963 35.5846  False \n",
      "SG_Age_group_C UK_Age_group_C  9.9251  -15.0653 34.9156  False \n",
      "SG_Age_group_C US_Age_group_A -1.2583  -26.2487 23.7322  False \n",
      "SG_Age_group_C US_Age_group_B 10.5542  -14.4362 35.5447  False \n",
      "SG_Age_group_C US_Age_group_C 13.7353  -11.2552 38.7257  False \n",
      "UK_Age_group_A UK_Age_group_B 28.0197   3.0293  53.0102   True \n",
      "UK_Age_group_A UK_Age_group_C 27.3507   2.3603  52.3412   True \n",
      "UK_Age_group_A US_Age_group_A 16.1673  -8.8231  41.1578  False \n",
      "UK_Age_group_A US_Age_group_B 27.9798   2.9894  52.9703   True \n",
      "UK_Age_group_A US_Age_group_C 31.1609   6.1704  56.1513   True \n",
      "UK_Age_group_B UK_Age_group_C  -0.669  -25.6595 24.3214  False \n",
      "UK_Age_group_B US_Age_group_A -11.8524 -36.8429  13.138  False \n",
      "UK_Age_group_B US_Age_group_B -0.0399  -25.0304 24.9505  False \n",
      "UK_Age_group_B US_Age_group_C  3.1411  -21.8493 28.1316  False \n",
      "UK_Age_group_C US_Age_group_A -11.1834 -36.1739  13.807  False \n",
      "UK_Age_group_C US_Age_group_B  0.6291  -24.3614 25.6195  False \n",
      "UK_Age_group_C US_Age_group_C  3.8102  -21.1803 28.8006  False \n",
      "US_Age_group_A US_Age_group_B 11.8125  -13.1779  36.803  False \n",
      "US_Age_group_A US_Age_group_C 14.9936  -9.9969   39.984  False \n",
      "US_Age_group_B US_Age_group_C  3.1811  -21.8094 28.1715  False \n",
      "---------------------------------------------------------------\n"
     ]
    }
   ],
   "source": [
    "mc = MultiComparison(data['Score'], data['subgroup'])\n",
    "mc_results = mc.tukeyhsd()\n",
    "print(mc_results)"
   ]
  },
  {
   "cell_type": "markdown",
   "metadata": {},
   "source": [
    "Let's try to make sense by looking at the summary below."
   ]
  },
  {
   "cell_type": "code",
   "execution_count": 323,
   "metadata": {},
   "outputs": [
    {
     "data": {
      "text/html": [
       "<div>\n",
       "<style scoped>\n",
       "    .dataframe tbody tr th:only-of-type {\n",
       "        vertical-align: middle;\n",
       "    }\n",
       "\n",
       "    .dataframe tbody tr th {\n",
       "        vertical-align: top;\n",
       "    }\n",
       "\n",
       "    .dataframe thead th {\n",
       "        text-align: right;\n",
       "    }\n",
       "</style>\n",
       "<table border=\"1\" class=\"dataframe\">\n",
       "  <thead>\n",
       "    <tr style=\"text-align: right;\">\n",
       "      <th></th>\n",
       "      <th></th>\n",
       "      <th>count</th>\n",
       "      <th>mean</th>\n",
       "      <th>std</th>\n",
       "    </tr>\n",
       "    <tr>\n",
       "      <th>Country</th>\n",
       "      <th>Age_group</th>\n",
       "      <th></th>\n",
       "      <th></th>\n",
       "      <th></th>\n",
       "    </tr>\n",
       "  </thead>\n",
       "  <tbody>\n",
       "    <tr>\n",
       "      <th rowspan=\"3\" valign=\"top\">SG</th>\n",
       "      <th>Age_group_A</th>\n",
       "      <td>10</td>\n",
       "      <td>121.208980</td>\n",
       "      <td>14.580748</td>\n",
       "    </tr>\n",
       "    <tr>\n",
       "      <th>Age_group_B</th>\n",
       "      <td>10</td>\n",
       "      <td>112.002611</td>\n",
       "      <td>16.953629</td>\n",
       "    </tr>\n",
       "    <tr>\n",
       "      <th>Age_group_C</th>\n",
       "      <td>10</td>\n",
       "      <td>101.355464</td>\n",
       "      <td>21.767009</td>\n",
       "    </tr>\n",
       "    <tr>\n",
       "      <th rowspan=\"3\" valign=\"top\">UK</th>\n",
       "      <th>Age_group_A</th>\n",
       "      <td>10</td>\n",
       "      <td>83.929864</td>\n",
       "      <td>7.678484</td>\n",
       "    </tr>\n",
       "    <tr>\n",
       "      <th>Age_group_B</th>\n",
       "      <td>10</td>\n",
       "      <td>111.949602</td>\n",
       "      <td>21.492482</td>\n",
       "    </tr>\n",
       "    <tr>\n",
       "      <th>Age_group_C</th>\n",
       "      <td>10</td>\n",
       "      <td>111.280578</td>\n",
       "      <td>20.358198</td>\n",
       "    </tr>\n",
       "    <tr>\n",
       "      <th rowspan=\"3\" valign=\"top\">US</th>\n",
       "      <th>Age_group_A</th>\n",
       "      <td>10</td>\n",
       "      <td>100.097167</td>\n",
       "      <td>5.183349</td>\n",
       "    </tr>\n",
       "    <tr>\n",
       "      <th>Age_group_B</th>\n",
       "      <td>10</td>\n",
       "      <td>111.909675</td>\n",
       "      <td>23.450453</td>\n",
       "    </tr>\n",
       "    <tr>\n",
       "      <th>Age_group_C</th>\n",
       "      <td>10</td>\n",
       "      <td>115.090751</td>\n",
       "      <td>16.760120</td>\n",
       "    </tr>\n",
       "  </tbody>\n",
       "</table>\n",
       "</div>"
      ],
      "text/plain": [
       "                     count        mean        std\n",
       "Country Age_group                                \n",
       "SG      Age_group_A     10  121.208980  14.580748\n",
       "        Age_group_B     10  112.002611  16.953629\n",
       "        Age_group_C     10  101.355464  21.767009\n",
       "UK      Age_group_A     10   83.929864   7.678484\n",
       "        Age_group_B     10  111.949602  21.492482\n",
       "        Age_group_C     10  111.280578  20.358198\n",
       "US      Age_group_A     10  100.097167   5.183349\n",
       "        Age_group_B     10  111.909675  23.450453\n",
       "        Age_group_C     10  115.090751  16.760120"
      ]
     },
     "execution_count": 323,
     "metadata": {},
     "output_type": "execute_result"
    }
   ],
   "source": [
    "summary(data, ['Country','Age_group'], 'Score')"
   ]
  },
  {
   "cell_type": "markdown",
   "metadata": {},
   "source": [
    "But when we look at the average score by individual varible, they don't look significantly different by groups - at least as informed by statistics!"
   ]
  },
  {
   "cell_type": "code",
   "execution_count": 324,
   "metadata": {},
   "outputs": [
    {
     "name": "stdout",
     "output_type": "stream",
     "text": [
      "         count        mean        std\n",
      "Country                              \n",
      "SG          30  111.522352  19.243188\n",
      "UK          30  102.386681  21.599911\n",
      "US          30  109.032531  17.584711\n",
      "             count        mean        std\n",
      "Age_group                                \n",
      "Age_group_A     30  101.745337  18.265503\n",
      "Age_group_B     30  111.953963  20.080466\n",
      "Age_group_C     30  109.242264  19.937883\n"
     ]
    }
   ],
   "source": [
    "print(summary(data, ['Country'], 'Score'))\n",
    "print(summary(data, ['Age_group'], 'Score'))"
   ]
  },
  {
   "cell_type": "markdown",
   "metadata": {},
   "source": [
    "### E. A Different Story\n",
    "\n",
    "Let's look at a totally different story with different data. Your turn - what can you tell?"
   ]
  },
  {
   "cell_type": "code",
   "execution_count": 325,
   "metadata": {},
   "outputs": [
    {
     "name": "stdout",
     "output_type": "stream",
     "text": [
      "                             sum_sq    df       F  PR(>F)  eta_sq  omega_sq\n",
      "C(Age_group)              1930.6826   2.0  2.7408  0.0705  0.0495    0.0311\n",
      "C(Country)                5183.3487   2.0  7.3583  0.0012  0.1328    0.1137\n",
      "C(Age_group):C(Country)   3397.4713   4.0  2.4115  0.0557  0.0870    0.0505\n",
      "Residual                 28529.0986  81.0     NaN     NaN     NaN       NaN\n",
      "n\n",
      "                sum_sq    df       F  PR(>F)  eta_sq  omega_sq\n",
      "C(Country)   5183.3487   2.0  6.6596   0.002  0.1328    0.1117\n",
      "Residual    33857.2526  87.0     NaN     NaN     NaN       NaN\n",
      "n\n",
      "                  sum_sq    df       F  PR(>F)  eta_sq  omega_sq\n",
      "C(Age_group)   1930.6826   2.0  2.2631  0.1101  0.0495    0.0273\n",
      "Residual      37109.9186  87.0     NaN     NaN     NaN       NaN\n"
     ]
    }
   ],
   "source": [
    "data = generate_data(3)\n",
    "\n",
    "formula = 'Score ~ C(Age_group)*C(Country)'\n",
    "model = ols(formula, data).fit()\n",
    "results = anova_lm(model, typ=2)\n",
    "print_results_extra(results)\n",
    "\n",
    "print('n')\n",
    "formula = 'Score ~ C(Country)'\n",
    "model = ols(formula, data).fit()\n",
    "results = anova_lm(model, typ=2)\n",
    "print_results_extra(results)\n",
    "\n",
    "print('n')\n",
    "formula = 'Score ~ C(Age_group)'\n",
    "model = ols(formula, data).fit()\n",
    "results = anova_lm(model, typ=2)\n",
    "print_results_extra(results)"
   ]
  },
  {
   "cell_type": "code",
   "execution_count": 326,
   "metadata": {},
   "outputs": [
    {
     "name": "stdout",
     "output_type": "stream",
     "text": [
      "Multiple Comparison of Means - Tukey HSD,FWER=0.05\n",
      "==============================================\n",
      "group1 group2 meandiff  lower    upper  reject\n",
      "----------------------------------------------\n",
      "  SG     UK   -17.9061 -30.052  -5.7602  True \n",
      "  SG     US   -13.2769 -25.4228  -1.131  True \n",
      "  UK     US    4.6293  -7.5166  16.7752 False \n",
      "----------------------------------------------\n"
     ]
    }
   ],
   "source": [
    "mc = MultiComparison(data['Score'], data['Country'])\n",
    "mc_results = mc.tukeyhsd()\n",
    "print(mc_results)"
   ]
  },
  {
   "cell_type": "code",
   "execution_count": 327,
   "metadata": {},
   "outputs": [
    {
     "data": {
      "image/png": "[encoded data removed]",
      "text/plain": [
       "<Figure size 432x288 with 1 Axes>"
      ]
     },
     "metadata": {
      "needs_background": "light"
     },
     "output_type": "display_data"
    }
   ],
   "source": [
    "fig = interaction_plot(data.Country, data.Age_group, data.Score, colors=['red','blue','green'], markers=['D','^','x'], ms=10)"
   ]
  },
  {
   "cell_type": "code",
   "execution_count": 331,
   "metadata": {},
   "outputs": [
    {
     "name": "stdout",
     "output_type": "stream",
     "text": [
      "         count        mean        std\n",
      "Country                              \n",
      "SG          30  118.229036  20.217547\n",
      "UK          30  100.322903  21.419670\n",
      "US          30  104.952172  17.318776\n",
      "             count        mean        std\n",
      "Age_group                                \n",
      "Age_group_A     30  105.639352  17.479782\n",
      "Age_group_B     30  103.587909  22.954946\n",
      "Age_group_C     30  114.276850  21.146632\n",
      "                     count        mean        std\n",
      "Country Age_group                                \n",
      "SG      Age_group_A     10  125.251214  11.217282\n",
      "        Age_group_B     10  111.630965  26.979380\n",
      "        Age_group_C     10  117.804930  18.973792\n",
      "UK      Age_group_A     10   87.799823   8.023792\n",
      "        Age_group_B     10  103.076542  18.620719\n",
      "        Age_group_C     10  110.092344  27.902078\n",
      "US      Age_group_A     10  103.867019   3.139563\n",
      "        Age_group_B     10   96.056220  22.092249\n",
      "        Age_group_C     10  114.933277  16.389569\n"
     ]
    }
   ],
   "source": [
    "print(summary(data, ['Country'], 'Score'))\n",
    "print(summary(data, ['Age_group'], 'Score'))\n",
    "print(summary(data, ['Country','Age_group'], 'Score'))"
   ]
  },
  {
   "cell_type": "markdown",
   "metadata": {},
   "source": [
    "## 1.2 Important things to check\n",
    "\n",
    "ANOVA made few assumptions about the data. If any of these assumptions is violated, then the results may be inaccurate. IN the previous section, we have checked that the assumptions are valid."
   ]
  },
  {
   "cell_type": "code",
   "execution_count": 333,
   "metadata": {},
   "outputs": [
    {
     "data": {
      "text/html": [
       "<table class=\"simpletable\">\n",
       "<caption>OLS Regression Results</caption>\n",
       "<tr>\n",
       "  <th>Dep. Variable:</th>          <td>Score</td>      <th>  R-squared:         </th> <td>   0.280</td>\n",
       "</tr>\n",
       "<tr>\n",
       "  <th>Model:</th>                   <td>OLS</td>       <th>  Adj. R-squared:    </th> <td>   0.209</td>\n",
       "</tr>\n",
       "<tr>\n",
       "  <th>Method:</th>             <td>Least Squares</td>  <th>  F-statistic:       </th> <td>   3.933</td>\n",
       "</tr>\n",
       "<tr>\n",
       "  <th>Date:</th>             <td>Sat, 31 Aug 2019</td> <th>  Prob (F-statistic):</th> <td>0.000572</td>\n",
       "</tr>\n",
       "<tr>\n",
       "  <th>Time:</th>                 <td>17:13:32</td>     <th>  Log-Likelihood:    </th> <td> -380.73</td>\n",
       "</tr>\n",
       "<tr>\n",
       "  <th>No. Observations:</th>      <td>    90</td>      <th>  AIC:               </th> <td>   779.5</td>\n",
       "</tr>\n",
       "<tr>\n",
       "  <th>Df Residuals:</th>          <td>    81</td>      <th>  BIC:               </th> <td>   802.0</td>\n",
       "</tr>\n",
       "<tr>\n",
       "  <th>Df Model:</th>              <td>     8</td>      <th>                     </th>     <td> </td>   \n",
       "</tr>\n",
       "<tr>\n",
       "  <th>Covariance Type:</th>      <td>nonrobust</td>    <th>                     </th>     <td> </td>   \n",
       "</tr>\n",
       "</table>\n",
       "<table class=\"simpletable\">\n",
       "<tr>\n",
       "                        <td></td>                          <th>coef</th>     <th>std err</th>      <th>t</th>      <th>P>|t|</th>  <th>[0.025</th>    <th>0.975]</th>  \n",
       "</tr>\n",
       "<tr>\n",
       "  <th>Intercept</th>                                    <td>  121.2090</td> <td>    5.545</td> <td>   21.861</td> <td> 0.000</td> <td>  110.177</td> <td>  132.241</td>\n",
       "</tr>\n",
       "<tr>\n",
       "  <th>C(Age_group)[T.Age_group_B]</th>                  <td>   -9.2064</td> <td>    7.841</td> <td>   -1.174</td> <td> 0.244</td> <td>  -24.808</td> <td>    6.395</td>\n",
       "</tr>\n",
       "<tr>\n",
       "  <th>C(Age_group)[T.Age_group_C]</th>                  <td>  -19.8535</td> <td>    7.841</td> <td>   -2.532</td> <td> 0.013</td> <td>  -35.455</td> <td>   -4.252</td>\n",
       "</tr>\n",
       "<tr>\n",
       "  <th>C(Country)[T.UK]</th>                             <td>  -37.2791</td> <td>    7.841</td> <td>   -4.754</td> <td> 0.000</td> <td>  -52.881</td> <td>  -21.677</td>\n",
       "</tr>\n",
       "<tr>\n",
       "  <th>C(Country)[T.US]</th>                             <td>  -21.1118</td> <td>    7.841</td> <td>   -2.692</td> <td> 0.009</td> <td>  -36.714</td> <td>   -5.510</td>\n",
       "</tr>\n",
       "<tr>\n",
       "  <th>C(Age_group)[T.Age_group_B]:C(Country)[T.UK]</th> <td>   37.2261</td> <td>   11.089</td> <td>    3.357</td> <td> 0.001</td> <td>   15.162</td> <td>   59.290</td>\n",
       "</tr>\n",
       "<tr>\n",
       "  <th>C(Age_group)[T.Age_group_C]:C(Country)[T.UK]</th> <td>   47.2042</td> <td>   11.089</td> <td>    4.257</td> <td> 0.000</td> <td>   25.140</td> <td>   69.268</td>\n",
       "</tr>\n",
       "<tr>\n",
       "  <th>C(Age_group)[T.Age_group_B]:C(Country)[T.US]</th> <td>   21.0189</td> <td>   11.089</td> <td>    1.895</td> <td> 0.062</td> <td>   -1.045</td> <td>   43.083</td>\n",
       "</tr>\n",
       "<tr>\n",
       "  <th>C(Age_group)[T.Age_group_C]:C(Country)[T.US]</th> <td>   34.8471</td> <td>   11.089</td> <td>    3.142</td> <td> 0.002</td> <td>   12.783</td> <td>   56.911</td>\n",
       "</tr>\n",
       "</table>\n",
       "<table class=\"simpletable\">\n",
       "<tr>\n",
       "  <th>Omnibus:</th>       <td> 4.137</td> <th>  Durbin-Watson:     </th> <td>   1.703</td>\n",
       "</tr>\n",
       "<tr>\n",
       "  <th>Prob(Omnibus):</th> <td> 0.126</td> <th>  Jarque-Bera (JB):  </th> <td>   3.517</td>\n",
       "</tr>\n",
       "<tr>\n",
       "  <th>Skew:</th>          <td>-0.355</td> <th>  Prob(JB):          </th> <td>   0.172</td>\n",
       "</tr>\n",
       "<tr>\n",
       "  <th>Kurtosis:</th>      <td> 3.659</td> <th>  Cond. No.          </th> <td>    13.9</td>\n",
       "</tr>\n",
       "</table><br/><br/>Warnings:<br/>[1] Standard Errors assume that the covariance matrix of the errors is correctly specified."
      ],
      "text/plain": [
       "<class 'statsmodels.iolib.summary.Summary'>\n",
       "\"\"\"\n",
       "                            OLS Regression Results                            \n",
       "==============================================================================\n",
       "Dep. Variable:                  Score   R-squared:                       0.280\n",
       "Model:                            OLS   Adj. R-squared:                  0.209\n",
       "Method:                 Least Squares   F-statistic:                     3.933\n",
       "Date:                Sat, 31 Aug 2019   Prob (F-statistic):           0.000572\n",
       "Time:                        17:13:32   Log-Likelihood:                -380.73\n",
       "No. Observations:                  90   AIC:                             779.5\n",
       "Df Residuals:                      81   BIC:                             802.0\n",
       "Df Model:                           8                                         \n",
       "Covariance Type:            nonrobust                                         \n",
       "================================================================================================================\n",
       "                                                   coef    std err          t      P>|t|      [0.025      0.975]\n",
       "----------------------------------------------------------------------------------------------------------------\n",
       "Intercept                                      121.2090      5.545     21.861      0.000     110.177     132.241\n",
       "C(Age_group)[T.Age_group_B]                     -9.2064      7.841     -1.174      0.244     -24.808       6.395\n",
       "C(Age_group)[T.Age_group_C]                    -19.8535      7.841     -2.532      0.013     -35.455      -4.252\n",
       "C(Country)[T.UK]                               -37.2791      7.841     -4.754      0.000     -52.881     -21.677\n",
       "C(Country)[T.US]                               -21.1118      7.841     -2.692      0.009     -36.714      -5.510\n",
       "C(Age_group)[T.Age_group_B]:C(Country)[T.UK]    37.2261     11.089      3.357      0.001      15.162      59.290\n",
       "C(Age_group)[T.Age_group_C]:C(Country)[T.UK]    47.2042     11.089      4.257      0.000      25.140      69.268\n",
       "C(Age_group)[T.Age_group_B]:C(Country)[T.US]    21.0189     11.089      1.895      0.062      -1.045      43.083\n",
       "C(Age_group)[T.Age_group_C]:C(Country)[T.US]    34.8471     11.089      3.142      0.002      12.783      56.911\n",
       "==============================================================================\n",
       "Omnibus:                        4.137   Durbin-Watson:                   1.703\n",
       "Prob(Omnibus):                  0.126   Jarque-Bera (JB):                3.517\n",
       "Skew:                          -0.355   Prob(JB):                        0.172\n",
       "Kurtosis:                       3.659   Cond. No.                         13.9\n",
       "==============================================================================\n",
       "\n",
       "Warnings:\n",
       "[1] Standard Errors assume that the covariance matrix of the errors is correctly specified.\n",
       "\"\"\""
      ]
     },
     "execution_count": 333,
     "metadata": {},
     "output_type": "execute_result"
    }
   ],
   "source": [
    "data = generate_data(2)\n",
    "summary(data, ['Country','Age_group'], 'Score')\n",
    "formula = 'Score ~ C(Age_group)*C(Country)'\n",
    "model = ols(formula, data).fit()\n",
    "model.summary()"
   ]
  },
  {
   "cell_type": "markdown",
   "metadata": {},
   "source": [
    "### Checking for assumptions\n",
    "\n",
    "1. Omnibus - the assumption of [homogeneity of variance](https://www.statisticssolutions.com/the-assumption-of-homogeneity-of-variance/) (similar variance across groups). [Levene's test](https://www.statisticshowto.datasciencecentral.com/levene-test/) is more widely used.\n",
    "2. [Jarque-Bera](https://www.statisticshowto.datasciencecentral.com/jarque-bera-test/) - test for normality within each cell. Each cell (Age_group-Country subgroup) is assumed to be generated from a Normal distribution. ANOVA, like many other statistical tests works with Normally distributed data. [Jarque-Bera may be inaccurate with small sample](https://davegiles.blogspot.com/2014/04/more-on-limitations-of-jarque-bera-test.html), so [Shapiro-Wilk Test](https://www.statisticshowto.datasciencecentral.com/shapiro-wilk-test/) may be better but it loses accuracy with sample>2000. More on [normality test](https://machinelearningmastery.com/a-gentle-introduction-to-normality-tests-in-python/).\n",
    "3. Condition number - test for multicollinearity between the independant variables. When we have multicollinearity, we can expect much higher fluctuations to small changes in the data, hence, we hope to see a relatively small number, something below 30. In this case we are well below 30, which we would expect given our model only has two variables and one is a constant.\n",
    "4. [Durban Watson test](https://www.statisticshowto.datasciencecentral.com/durbin-watson-test-coefficient/) - test for presence of [autocorrelation](https://www.statisticshowto.datasciencecentral.com/serial-correlation-autocorrelation/). Here I'm not sure what's the importance and this is more commonly used for time series data. This test is rarely used as it is considered archaic."
   ]
  },
  {
   "cell_type": "markdown",
   "metadata": {},
   "source": [
    "### More......\n",
    "**Let's look at each of the values listed:**\n",
    "\n",
    "**Omnibus/Prob(Omnibus)** – a test of the skewness and kurtosis of the residual (characteristic #2). We hope to see a value close to zero which would indicate normalcy. The Prob (Omnibus) performs a statistical test indicating the probability that the residuals are normally distributed. We hope to see something close to 1 here. In this case Omnibus is relatively low and the Prob (Omnibus) is relatively high so the data is somewhat normal, but not altogether ideal. A linear regression approach would probably be better than random guessing but likely not as good as a nonlinear approach.\n",
    "\n",
    "**Skew** – a measure of data symmetry. We want to see something close to zero, indicating the residual distribution is normal. Note that this value also drives the Omnibus. This result has a small, and therefore good, skew.\n",
    "\n",
    "**Kurtosis** – a measure of \"peakiness\", or curvature of the data. Higher peaks lead to greater Kurtosis. Greater Kurtosis can be interpreted as a tighter clustering of residuals around zero, implying a better model with few outliers.\n",
    "\n",
    "**Durbin-Watson** – tests for homoscedasticity (characteristic #3). We hope to have a value between 1 and 2. In this case, the data is close, but within limits.\n",
    "\n",
    "**Jarque-Bera (JB)/Prob(JB)** – like the Omnibus test in that it tests both skew and kurtosis. We hope to see in this test a confirmation of the Omnibus test. In this case we do.\n",
    "\n",
    "**Condition Number** – This test measures the sensitivity of a function's output as compared to its input (characteristic #4). When we have multicollinearity, we can expect much higher fluctuations to small changes in the data, hence, we hope to see a relatively small number, something below 30. In this case we are well below 30, which we would expect given our model only has two variables and one is a constant.\n",
    "\n",
    "**In looking at the data we see an \"OK\" (though not great) set of characteristics. This would indicate that the OLS approach has some validity, but we can probably do better with a nonlinear model.**\n",
    "\n",
    "**Data \"Science\" is somewhat of a misnomer because there is a great deal of \"art\" involved in creating the right model. Understanding how your data \"behaves\" is a solid first step in that direction and can often make the difference between a good model and a much better one.**\n",
    "\n",
    "Reference: [Link](https://www.accelebrate.com/blog/interpreting-results-from-linear-regression-is-the-data-appropriate)"
   ]
  },
  {
   "cell_type": "markdown",
   "metadata": {},
   "source": [
    "Normality of the data can also be visually performed with Q-Q or normal probability plot."
   ]
  },
  {
   "cell_type": "code",
   "execution_count": 335,
   "metadata": {},
   "outputs": [
    {
     "data": {
      "image/png": "[encoded data removed]",
      "text/plain": [
       "<Figure size 432x288 with 1 Axes>"
      ]
     },
     "metadata": {
      "needs_background": "light"
     },
     "output_type": "display_data"
    }
   ],
   "source": [
    "res = model.resid \n",
    "fig = sm.qqplot(res, line='s')\n",
    "plt.show()"
   ]
  },
  {
   "cell_type": "markdown",
   "metadata": {},
   "source": [
    "# 2. The Intuition - Dive Deeper into Simple Math\n",
    "## 2.1 One-way ANOVA"
   ]
  },
  {
   "cell_type": "markdown",
   "metadata": {},
   "source": [
    "First, understand the intuition behind One-way ANOVA. The key concept here is variation or variance. We detect how different each group is by looking at whether the variation is big or small enough. Why I have to reinvent the wheel here, when someone has already explained it well?\n",
    "\n",
    "Youtube guide:\n",
    "1. [One-way ANOVA, A Visual Tutorial](https://www.youtube.com/watch?v=JgMFhKi6f6Y)\n",
    "2. [One-way ANOVA, the calculation](https://www.youtube.com/watch?v=UrRYITjDOww&t=1201s)\n",
    "\n",
    "\n",
    "**Calculation goal: <br>**\n",
    "Get the F statistics<br>\n",
    "= MSE(accounted by the groups) / MSE(within groups)<br>\n",
    "= variation explained by having different groups / unexplained variation\n",
    "    \n",
    "Steps:\n",
    "1. Calculate degrees of freedom\n",
    "2. Calculate sum of squares errors or variation\n",
    "3. Calculate mean square errors, equivalent to variance (precisely, it is an estimate of population variance)\n",
    "4. Calculate F statistics and p-value"
   ]
  },
  {
   "cell_type": "code",
   "execution_count": 386,
   "metadata": {},
   "outputs": [
    {
     "name": "stdout",
     "output_type": "stream",
     "text": [
      "                df      sum_sq   mean_sq       F  PR(>F)  eta_sq  omega_sq\n",
      "C(Age_group)   2.0   1677.7326  838.8663  2.2185  0.1149  0.0485    0.0264\n",
      "Residual      87.0  32896.8132  378.1243     NaN     NaN     NaN       NaN\n"
     ]
    }
   ],
   "source": [
    "data = generate_data(2)\n",
    "formula = 'Score ~ C(Age_group)'\n",
    "model = ols(formula, data).fit()\n",
    "results = anova_lm(model, typ=1)\n",
    "print_results_extra(results)"
   ]
  },
  {
   "cell_type": "code",
   "execution_count": 387,
   "metadata": {},
   "outputs": [
    {
     "data": {
      "text/html": [
       "<div>\n",
       "<style scoped>\n",
       "    .dataframe tbody tr th:only-of-type {\n",
       "        vertical-align: middle;\n",
       "    }\n",
       "\n",
       "    .dataframe tbody tr th {\n",
       "        vertical-align: top;\n",
       "    }\n",
       "\n",
       "    .dataframe thead th {\n",
       "        text-align: right;\n",
       "    }\n",
       "</style>\n",
       "<table border=\"1\" class=\"dataframe\">\n",
       "  <thead>\n",
       "    <tr style=\"text-align: right;\">\n",
       "      <th></th>\n",
       "      <th>Age_group_A</th>\n",
       "      <th>Age_group_B</th>\n",
       "      <th>Age_group_C</th>\n",
       "    </tr>\n",
       "  </thead>\n",
       "  <tbody>\n",
       "    <tr>\n",
       "      <th>0</th>\n",
       "      <td>67.625894</td>\n",
       "      <td>63.252463</td>\n",
       "      <td>111.248165</td>\n",
       "    </tr>\n",
       "    <tr>\n",
       "      <th>1</th>\n",
       "      <td>74.104067</td>\n",
       "      <td>117.112535</td>\n",
       "      <td>73.233862</td>\n",
       "    </tr>\n",
       "    <tr>\n",
       "      <th>2</th>\n",
       "      <td>81.138994</td>\n",
       "      <td>114.149427</td>\n",
       "      <td>103.221898</td>\n",
       "    </tr>\n",
       "    <tr>\n",
       "      <th>3</th>\n",
       "      <td>84.464055</td>\n",
       "      <td>93.791097</td>\n",
       "      <td>84.650658</td>\n",
       "    </tr>\n",
       "    <tr>\n",
       "      <th>4</th>\n",
       "      <td>85.554128</td>\n",
       "      <td>119.761208</td>\n",
       "      <td>135.139827</td>\n",
       "    </tr>\n",
       "  </tbody>\n",
       "</table>\n",
       "</div>"
      ],
      "text/plain": [
       "   Age_group_A  Age_group_B  Age_group_C\n",
       "0    67.625894    63.252463   111.248165\n",
       "1    74.104067   117.112535    73.233862\n",
       "2    81.138994   114.149427   103.221898\n",
       "3    84.464055    93.791097    84.650658\n",
       "4    85.554128   119.761208   135.139827"
      ]
     },
     "execution_count": 387,
     "metadata": {},
     "output_type": "execute_result"
    }
   ],
   "source": [
    "# Transform the data into readable format\n",
    "Age_group_A = data.loc[data.Age_group=='Age_group_A', 'Score'].values\n",
    "Age_group_B = data.loc[data.Age_group=='Age_group_B', 'Score'].values\n",
    "Age_group_C = data.loc[data.Age_group=='Age_group_C', 'Score'].values\n",
    "data = pd.DataFrame({'Age_group_A': Age_group_A, 'Age_group_B': Age_group_B, 'Age_group_C': Age_group_C})\n",
    "data.head()"
   ]
  },
  {
   "cell_type": "code",
   "execution_count": 388,
   "metadata": {},
   "outputs": [
    {
     "data": {
      "text/plain": [
       "(2.2184935580686522, 0.1148906045560028)"
      ]
     },
     "execution_count": 388,
     "metadata": {},
     "output_type": "execute_result"
    }
   ],
   "source": [
    "# 1. Calculate degrees of freedom\n",
    "# 2. Calculate sum of squares errors or variation\n",
    "# 3. Calculate mean square errors, equivalent to variance (precisely, it is an estimate of population variance)\n",
    "# 4. Calculate F statistics and p-value\n",
    "\n",
    "k_col = len(data.columns)\n",
    "N_col = data.shape[0]\n",
    "N = N_col * data.shape[1]\n",
    "\n",
    "# degree of freedom\n",
    "df_col = k_col - 1\n",
    "df_within = N - k_col\n",
    "\n",
    "# sum of squares of columns and within\n",
    "mean_grand  = data.values.mean()\n",
    "mean_col    = data.mean()\n",
    "\n",
    "ss_col    = np.sum( (mean_col - mean_grand) **2    ) * N_col # sum of squares of column mean from grand mean\n",
    "ss_within = np.sum( (data - mean_col).values **2)  # sum of squares of data from column mean\n",
    "mse_col    = ss_col/df_col\n",
    "mse_within = ss_within/df_within\n",
    "\n",
    "F = mse_col / mse_within\n",
    "p = stats.f.sf(F, df_col, df_within)\n",
    "F, p"
   ]
  },
  {
   "cell_type": "code",
   "execution_count": 397,
   "metadata": {},
   "outputs": [
    {
     "name": "stdout",
     "output_type": "stream",
     "text": [
      "Total variation, ss_total is 34574.545781207045\n",
      "ss_col = 1677.7326005139216\n",
      "ss_within = 32896.81318069311\n",
      "ss_col + ss_within = 34574.54578120703\n",
      "\n",
      "So total variation in the data is attributed to the variation accounted by having different groups and the natural variation/residual/unexplained variation in the data.\n"
     ]
    }
   ],
   "source": [
    "ss_total = np.sum( (data - mean_grand).values **2)\n",
    "print(f'Total variation, ss_total is {ss_total}')\n",
    "print(f'ss_col = {ss_col}')\n",
    "print(f'ss_within = {ss_within}')\n",
    "print(f'ss_col + ss_within = {ss_col + ss_within}')\n",
    "print('\\nSo total variation in the data is attributed to the variation accounted by having different groups and the natural variation/residual/unexplained variation in the data.')"
   ]
  },
  {
   "cell_type": "code",
   "execution_count": 408,
   "metadata": {},
   "outputs": [
    {
     "data": {
      "text/plain": [
       "(0.048525080014958616, 0.026363766195402785)"
      ]
     },
     "execution_count": 408,
     "metadata": {},
     "output_type": "execute_result"
    }
   ],
   "source": [
    "eta_squared = ss_col / ss_total\n",
    "omega_squared = (ss_col - (df_col * mse_within))/(ss_total + mse_within)\n",
    "\n",
    "eta_squared, omega_squared"
   ]
  },
  {
   "cell_type": "markdown",
   "metadata": {},
   "source": [
    "## 2.2 Two-way ANOVA"
   ]
  },
  {
   "cell_type": "markdown",
   "metadata": {},
   "source": [
    "# 3. Discover New Concepts in ANOVA"
   ]
  },
  {
   "cell_type": "markdown",
   "metadata": {},
   "source": [
    "In two-way ANOVA, there are such concepts which are important to know:\n",
    "\n",
    "1. [Two-way ANOVA w/o Replication](https://www.youtube.com/watch?v=xNQliU8yiYk) - For this, we can't test for interaction effect\n",
    "2. [Two-way ANOVA w/ Replication - Interaction](https://www.youtube.com/watch?v=g40D30YR6Fg&t=356s)\n",
    "3. Balanced design"
   ]
  },
  {
   "cell_type": "markdown",
   "metadata": {},
   "source": [
    "**Concept of balanced design**\n",
    "\n",
    "Taking the previous example, if each group has different sample size, then `ss_within` is calculated by simply adding up SSE within each of the individual group. Balanced design means having same or not significantly different sample size within each group. It has important implication, as discussed [here](https://www.statisticssolutions.com/the-assumption-of-homogeneity-of-variance/).\n",
    "<br>\n",
    "<img width='600px' align='left' src='https://github.com/jasonlcy91/statistical-inference-and-thinking/blob/master/Images/ANOVA%20-%20Homogeneity%20of%20Variance.png?raw=true'>"
   ]
  },
  {
   "cell_type": "code",
   "execution_count": 410,
   "metadata": {},
   "outputs": [],
   "source": [
    "data = generate_data(2)\n",
    "\n",
    "# Transform the data into readable format\n",
    "Age_group_A = data.loc[data.Age_group=='Age_group_A', 'Score'].values\n",
    "Age_group_B = data.loc[data.Age_group=='Age_group_B', 'Score'].values\n",
    "Age_group_C = data.loc[data.Age_group=='Age_group_C', 'Score'].values\n",
    "data = pd.DataFrame({'Age_group_A': Age_group_A, 'Age_group_B': Age_group_B, 'Age_group_C': Age_group_C})"
   ]
  },
  {
   "cell_type": "code",
   "execution_count": 413,
   "metadata": {},
   "outputs": [
    {
     "data": {
      "text/plain": [
       "32896.813180693105"
      ]
     },
     "execution_count": 413,
     "metadata": {},
     "output_type": "execute_result"
    }
   ],
   "source": [
    "ss_within_Age_group_A = np.sum( (data.Age_group_A - data.Age_group_A.mean())**2 )\n",
    "ss_within_Age_group_B = np.sum( (data.Age_group_B - data.Age_group_B.mean())**2 )\n",
    "ss_within_Age_group_C = np.sum( (data.Age_group_C - data.Age_group_C.mean())**2 )\n",
    "ss_within = ss_within_Age_group_A + ss_within_Age_group_B + ss_within_Age_group_C\n",
    "ss_within"
   ]
  },
  {
   "cell_type": "markdown",
   "metadata": {},
   "source": [
    "**More summary here:**\n",
    "\n",
    "**With replication**<br>\n",
    "When the sample sizes in each subgroup are equal (a \"balanced design\"), you calculate the mean square for each of the two factors (the \"main effects\"), for the interaction, and for the variation within each combination of factors. You then calculate each F-statistic by dividing a mean square by the within-subgroup mean square.\n",
    "\n",
    "When the sample sizes for the subgroups are not equal (an \"unbalanced design\"), the analysis is much more complicated, and there are several different techniques for testing the main and interaction effects that I'm not going to cover here. If you're doing a two-way anova, your statistical life will be a lot easier if you make it a balanced design.\n",
    "\n",
    "**Without replication**<br>\n",
    "When there is only a single observation for each combination of the nominal variables, there are only two null hypotheses: that the means of observations grouped by one factor are the same, and that the means of observations grouped by the other factor are the same. It is impossible to test the null hypothesis of no interaction; instead, you have to assume that there is no interaction in order to test the two main effects.\n",
    "\n",
    "When there is no replication, you calculate the mean square for each of the two main effects, and you also calculate a total mean square by considering all of the observations as a single group. The remainder mean square (also called the discrepance or error mean square) is found by subtracting the two main effect mean squares from the total mean square. The F-statistic for a main effect is the main effect mean square divided by the remainder mean square.\n",
    "\n",
    "**Assumptions**<br>\n",
    "Two-way anova, like all anovas, assumes that the observations within each cell are normally distributed and have equal standard deviations. I don't know how sensitive it is to violations of these assumptions."
   ]
  },
  {
   "cell_type": "markdown",
   "metadata": {},
   "source": [
    "# End, Thank you!"
   ]
  },
  {
   "cell_type": "markdown",
   "metadata": {},
   "source": [
    "Some references:\n",
    "1. https://www.youtube.com/watch?v=i4mamuL_CF8\n",
    "2. https://reneshbedre.github.io/blog/anova.html\n",
    "3. https://pythonfordatascience.org/anova-2-way-n-way/\n",
    "4. https://www.statisticshowto.datasciencecentral.com/parametric-and-non-parametric-data/"
   ]
  },
  {
   "cell_type": "code",
   "execution_count": null,
   "metadata": {},
   "outputs": [],
   "source": []
  }
 ],
 "metadata": {
  "kernelspec": {
   "display_name": "Python 3",
   "language": "python",
   "name": "python3"
  },
  "language_info": {
   "codemirror_mode": {
    "name": "ipython",
    "version": 3
   },
   "file_extension": ".py",
   "mimetype": "text/x-python",
   "name": "python",
   "nbconvert_exporter": "python",
   "pygments_lexer": "ipython3",
   "version": "3.7.3"
  }
 },
 "nbformat": 4,
 "nbformat_minor": 2
}
